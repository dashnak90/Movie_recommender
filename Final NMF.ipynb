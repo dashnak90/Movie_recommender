{
 "cells": [
  {
   "cell_type": "code",
   "execution_count": 153,
   "id": "4a63423a-2869-414b-add0-bb3471b586be",
   "metadata": {},
   "outputs": [],
   "source": [
    "import numpy as np\n",
    "from sklearn.decomposition import NMF\n",
    "import pandas as pd\n",
    "import pickle\n",
    "import requests \n",
    "import re\n",
    "from bs4 import BeautifulSoup"
   ]
  },
  {
   "cell_type": "raw",
   "id": "2a8ec028-b924-4a38-926c-a7c4372f0976",
   "metadata": {},
   "source": [
    "ratings=pd.read_csv(\"data/ratings.csv\")\n",
    "movies = pd.read_csv('data/movies.csv')\n",
    "links=pd.read_csv('data/links.csv')"
   ]
  },
  {
   "cell_type": "code",
   "execution_count": 3,
   "id": "9a80c244-fcb5-45bd-bab7-9e519b1762d5",
   "metadata": {},
   "outputs": [],
   "source": [
    "movie_mapping = dict(zip(movies.movieId, movies.title))"
   ]
  },
  {
   "cell_type": "code",
   "execution_count": 4,
   "id": "568cbbe2-488d-4616-bc17-83099e51fed5",
   "metadata": {},
   "outputs": [],
   "source": [
    "imdb_mapping = dict(zip(links.movieId, links.imdbId))"
   ]
  },
  {
   "cell_type": "code",
   "execution_count": 6,
   "id": "64b09876-7aaa-4524-97aa-ab094b18d4a0",
   "metadata": {},
   "outputs": [
    {
     "data": {
      "text/html": [
       "<div>\n",
       "<style scoped>\n",
       "    .dataframe tbody tr th:only-of-type {\n",
       "        vertical-align: middle;\n",
       "    }\n",
       "\n",
       "    .dataframe tbody tr th {\n",
       "        vertical-align: top;\n",
       "    }\n",
       "\n",
       "    .dataframe thead th {\n",
       "        text-align: right;\n",
       "    }\n",
       "</style>\n",
       "<table border=\"1\" class=\"dataframe\">\n",
       "  <thead>\n",
       "    <tr style=\"text-align: right;\">\n",
       "      <th></th>\n",
       "      <th>userId</th>\n",
       "      <th>movieId</th>\n",
       "      <th>rating</th>\n",
       "      <th>timestamp</th>\n",
       "      <th>movie_title</th>\n",
       "      <th>imdb</th>\n",
       "    </tr>\n",
       "  </thead>\n",
       "  <tbody>\n",
       "    <tr>\n",
       "      <th>0</th>\n",
       "      <td>1</td>\n",
       "      <td>1</td>\n",
       "      <td>4.0</td>\n",
       "      <td>964982703</td>\n",
       "      <td>Toy Story (1995)</td>\n",
       "      <td>114709</td>\n",
       "    </tr>\n",
       "    <tr>\n",
       "      <th>1</th>\n",
       "      <td>1</td>\n",
       "      <td>3</td>\n",
       "      <td>4.0</td>\n",
       "      <td>964981247</td>\n",
       "      <td>Grumpier Old Men (1995)</td>\n",
       "      <td>113228</td>\n",
       "    </tr>\n",
       "    <tr>\n",
       "      <th>2</th>\n",
       "      <td>1</td>\n",
       "      <td>6</td>\n",
       "      <td>4.0</td>\n",
       "      <td>964982224</td>\n",
       "      <td>Heat (1995)</td>\n",
       "      <td>113277</td>\n",
       "    </tr>\n",
       "    <tr>\n",
       "      <th>3</th>\n",
       "      <td>1</td>\n",
       "      <td>47</td>\n",
       "      <td>5.0</td>\n",
       "      <td>964983815</td>\n",
       "      <td>Seven (a.k.a. Se7en) (1995)</td>\n",
       "      <td>114369</td>\n",
       "    </tr>\n",
       "    <tr>\n",
       "      <th>4</th>\n",
       "      <td>1</td>\n",
       "      <td>50</td>\n",
       "      <td>5.0</td>\n",
       "      <td>964982931</td>\n",
       "      <td>Usual Suspects, The (1995)</td>\n",
       "      <td>114814</td>\n",
       "    </tr>\n",
       "  </tbody>\n",
       "</table>\n",
       "</div>"
      ],
      "text/plain": [
       "   userId  movieId  rating  timestamp                  movie_title    imdb\n",
       "0       1        1     4.0  964982703             Toy Story (1995)  114709\n",
       "1       1        3     4.0  964981247      Grumpier Old Men (1995)  113228\n",
       "2       1        6     4.0  964982224                  Heat (1995)  113277\n",
       "3       1       47     5.0  964983815  Seven (a.k.a. Se7en) (1995)  114369\n",
       "4       1       50     5.0  964982931   Usual Suspects, The (1995)  114814"
      ]
     },
     "execution_count": 6,
     "metadata": {},
     "output_type": "execute_result"
    }
   ],
   "source": [
    "ratings['movie_title']=ratings['movieId'].map(movie_mapping)\n",
    "ratings['imdb']=ratings['movieId'].map(imdb_mapping)\n",
    "ratings.head()"
   ]
  },
  {
   "cell_type": "code",
   "execution_count": 8,
   "id": "897bc3e8-5af5-429a-b752-ff10083c08cf",
   "metadata": {},
   "outputs": [],
   "source": [
    "#dict with movie title/index\n",
    "dic_imdb={}\n",
    "for num,title in enumerate(ratings.movie_title):\n",
    "    dic_imdb[title]=ratings.imdb[num]\n",
    "pickle.dump(dic_imdb, open(\"dic_imdb.pkl\", \"wb\")) "
   ]
  },
  {
   "cell_type": "code",
   "execution_count": 17,
   "id": "32723a23-c6f6-42d4-81d0-27d07440db57",
   "metadata": {},
   "outputs": [],
   "source": [
    "mx=pd.pivot_table(ratings, values=\"rating\", index=\"userId\", columns=\"movie_title\")"
   ]
  },
  {
   "cell_type": "code",
   "execution_count": 20,
   "id": "f2388fdd-6c31-44a5-984c-c0cb2430ff81",
   "metadata": {},
   "outputs": [
    {
     "name": "stdout",
     "output_type": "stream",
     "text": [
      "3.2623883140510226\n"
     ]
    }
   ],
   "source": [
    "mean=mx.mean().mean()\n",
    "print(mean)\n",
    "mx=mx.fillna(mean)"
   ]
  },
  {
   "cell_type": "code",
   "execution_count": 21,
   "id": "d5892255-2fb5-4819-a731-7420df8ca948",
   "metadata": {},
   "outputs": [
    {
     "data": {
      "text/html": [
       "<div>\n",
       "<style scoped>\n",
       "    .dataframe tbody tr th:only-of-type {\n",
       "        vertical-align: middle;\n",
       "    }\n",
       "\n",
       "    .dataframe tbody tr th {\n",
       "        vertical-align: top;\n",
       "    }\n",
       "\n",
       "    .dataframe thead th {\n",
       "        text-align: right;\n",
       "    }\n",
       "</style>\n",
       "<table border=\"1\" class=\"dataframe\">\n",
       "  <thead>\n",
       "    <tr style=\"text-align: right;\">\n",
       "      <th>movie_title</th>\n",
       "      <th>'71 (2014)</th>\n",
       "      <th>'Hellboy': The Seeds of Creation (2004)</th>\n",
       "      <th>'Round Midnight (1986)</th>\n",
       "      <th>'Salem's Lot (2004)</th>\n",
       "      <th>'Til There Was You (1997)</th>\n",
       "      <th>'Tis the Season for Love (2015)</th>\n",
       "      <th>'burbs, The (1989)</th>\n",
       "      <th>'night Mother (1986)</th>\n",
       "      <th>(500) Days of Summer (2009)</th>\n",
       "      <th>*batteries not included (1987)</th>\n",
       "      <th>...</th>\n",
       "      <th>Zulu (2013)</th>\n",
       "      <th>[REC] (2007)</th>\n",
       "      <th>[REC]² (2009)</th>\n",
       "      <th>[REC]³ 3 Génesis (2012)</th>\n",
       "      <th>anohana: The Flower We Saw That Day - The Movie (2013)</th>\n",
       "      <th>eXistenZ (1999)</th>\n",
       "      <th>xXx (2002)</th>\n",
       "      <th>xXx: State of the Union (2005)</th>\n",
       "      <th>¡Three Amigos! (1986)</th>\n",
       "      <th>À nous la liberté (Freedom for Us) (1931)</th>\n",
       "    </tr>\n",
       "    <tr>\n",
       "      <th>userId</th>\n",
       "      <th></th>\n",
       "      <th></th>\n",
       "      <th></th>\n",
       "      <th></th>\n",
       "      <th></th>\n",
       "      <th></th>\n",
       "      <th></th>\n",
       "      <th></th>\n",
       "      <th></th>\n",
       "      <th></th>\n",
       "      <th></th>\n",
       "      <th></th>\n",
       "      <th></th>\n",
       "      <th></th>\n",
       "      <th></th>\n",
       "      <th></th>\n",
       "      <th></th>\n",
       "      <th></th>\n",
       "      <th></th>\n",
       "      <th></th>\n",
       "      <th></th>\n",
       "    </tr>\n",
       "  </thead>\n",
       "  <tbody>\n",
       "    <tr>\n",
       "      <th>1</th>\n",
       "      <td>3.262388</td>\n",
       "      <td>3.262388</td>\n",
       "      <td>3.262388</td>\n",
       "      <td>3.262388</td>\n",
       "      <td>3.262388</td>\n",
       "      <td>3.262388</td>\n",
       "      <td>3.262388</td>\n",
       "      <td>3.262388</td>\n",
       "      <td>3.262388</td>\n",
       "      <td>3.262388</td>\n",
       "      <td>...</td>\n",
       "      <td>3.262388</td>\n",
       "      <td>3.262388</td>\n",
       "      <td>3.262388</td>\n",
       "      <td>3.262388</td>\n",
       "      <td>3.262388</td>\n",
       "      <td>3.262388</td>\n",
       "      <td>3.262388</td>\n",
       "      <td>3.262388</td>\n",
       "      <td>4.000000</td>\n",
       "      <td>3.262388</td>\n",
       "    </tr>\n",
       "    <tr>\n",
       "      <th>2</th>\n",
       "      <td>3.262388</td>\n",
       "      <td>3.262388</td>\n",
       "      <td>3.262388</td>\n",
       "      <td>3.262388</td>\n",
       "      <td>3.262388</td>\n",
       "      <td>3.262388</td>\n",
       "      <td>3.262388</td>\n",
       "      <td>3.262388</td>\n",
       "      <td>3.262388</td>\n",
       "      <td>3.262388</td>\n",
       "      <td>...</td>\n",
       "      <td>3.262388</td>\n",
       "      <td>3.262388</td>\n",
       "      <td>3.262388</td>\n",
       "      <td>3.262388</td>\n",
       "      <td>3.262388</td>\n",
       "      <td>3.262388</td>\n",
       "      <td>3.262388</td>\n",
       "      <td>3.262388</td>\n",
       "      <td>3.262388</td>\n",
       "      <td>3.262388</td>\n",
       "    </tr>\n",
       "    <tr>\n",
       "      <th>3</th>\n",
       "      <td>3.262388</td>\n",
       "      <td>3.262388</td>\n",
       "      <td>3.262388</td>\n",
       "      <td>3.262388</td>\n",
       "      <td>3.262388</td>\n",
       "      <td>3.262388</td>\n",
       "      <td>3.262388</td>\n",
       "      <td>3.262388</td>\n",
       "      <td>3.262388</td>\n",
       "      <td>3.262388</td>\n",
       "      <td>...</td>\n",
       "      <td>3.262388</td>\n",
       "      <td>3.262388</td>\n",
       "      <td>3.262388</td>\n",
       "      <td>3.262388</td>\n",
       "      <td>3.262388</td>\n",
       "      <td>3.262388</td>\n",
       "      <td>3.262388</td>\n",
       "      <td>3.262388</td>\n",
       "      <td>3.262388</td>\n",
       "      <td>3.262388</td>\n",
       "    </tr>\n",
       "    <tr>\n",
       "      <th>4</th>\n",
       "      <td>3.262388</td>\n",
       "      <td>3.262388</td>\n",
       "      <td>3.262388</td>\n",
       "      <td>3.262388</td>\n",
       "      <td>3.262388</td>\n",
       "      <td>3.262388</td>\n",
       "      <td>3.262388</td>\n",
       "      <td>3.262388</td>\n",
       "      <td>3.262388</td>\n",
       "      <td>3.262388</td>\n",
       "      <td>...</td>\n",
       "      <td>3.262388</td>\n",
       "      <td>3.262388</td>\n",
       "      <td>3.262388</td>\n",
       "      <td>3.262388</td>\n",
       "      <td>3.262388</td>\n",
       "      <td>3.262388</td>\n",
       "      <td>3.262388</td>\n",
       "      <td>3.262388</td>\n",
       "      <td>3.262388</td>\n",
       "      <td>3.262388</td>\n",
       "    </tr>\n",
       "    <tr>\n",
       "      <th>5</th>\n",
       "      <td>3.262388</td>\n",
       "      <td>3.262388</td>\n",
       "      <td>3.262388</td>\n",
       "      <td>3.262388</td>\n",
       "      <td>3.262388</td>\n",
       "      <td>3.262388</td>\n",
       "      <td>3.262388</td>\n",
       "      <td>3.262388</td>\n",
       "      <td>3.262388</td>\n",
       "      <td>3.262388</td>\n",
       "      <td>...</td>\n",
       "      <td>3.262388</td>\n",
       "      <td>3.262388</td>\n",
       "      <td>3.262388</td>\n",
       "      <td>3.262388</td>\n",
       "      <td>3.262388</td>\n",
       "      <td>3.262388</td>\n",
       "      <td>3.262388</td>\n",
       "      <td>3.262388</td>\n",
       "      <td>3.262388</td>\n",
       "      <td>3.262388</td>\n",
       "    </tr>\n",
       "  </tbody>\n",
       "</table>\n",
       "<p>5 rows × 9719 columns</p>\n",
       "</div>"
      ],
      "text/plain": [
       "movie_title  '71 (2014)  'Hellboy': The Seeds of Creation (2004)  \\\n",
       "userId                                                             \n",
       "1              3.262388                                 3.262388   \n",
       "2              3.262388                                 3.262388   \n",
       "3              3.262388                                 3.262388   \n",
       "4              3.262388                                 3.262388   \n",
       "5              3.262388                                 3.262388   \n",
       "\n",
       "movie_title  'Round Midnight (1986)  'Salem's Lot (2004)  \\\n",
       "userId                                                     \n",
       "1                          3.262388             3.262388   \n",
       "2                          3.262388             3.262388   \n",
       "3                          3.262388             3.262388   \n",
       "4                          3.262388             3.262388   \n",
       "5                          3.262388             3.262388   \n",
       "\n",
       "movie_title  'Til There Was You (1997)  'Tis the Season for Love (2015)  \\\n",
       "userId                                                                    \n",
       "1                             3.262388                         3.262388   \n",
       "2                             3.262388                         3.262388   \n",
       "3                             3.262388                         3.262388   \n",
       "4                             3.262388                         3.262388   \n",
       "5                             3.262388                         3.262388   \n",
       "\n",
       "movie_title  'burbs, The (1989)  'night Mother (1986)  \\\n",
       "userId                                                  \n",
       "1                      3.262388              3.262388   \n",
       "2                      3.262388              3.262388   \n",
       "3                      3.262388              3.262388   \n",
       "4                      3.262388              3.262388   \n",
       "5                      3.262388              3.262388   \n",
       "\n",
       "movie_title  (500) Days of Summer (2009)  *batteries not included (1987)  ...  \\\n",
       "userId                                                                    ...   \n",
       "1                               3.262388                        3.262388  ...   \n",
       "2                               3.262388                        3.262388  ...   \n",
       "3                               3.262388                        3.262388  ...   \n",
       "4                               3.262388                        3.262388  ...   \n",
       "5                               3.262388                        3.262388  ...   \n",
       "\n",
       "movie_title  Zulu (2013)  [REC] (2007)  [REC]² (2009)  \\\n",
       "userId                                                  \n",
       "1               3.262388      3.262388       3.262388   \n",
       "2               3.262388      3.262388       3.262388   \n",
       "3               3.262388      3.262388       3.262388   \n",
       "4               3.262388      3.262388       3.262388   \n",
       "5               3.262388      3.262388       3.262388   \n",
       "\n",
       "movie_title  [REC]³ 3 Génesis (2012)  \\\n",
       "userId                                 \n",
       "1                           3.262388   \n",
       "2                           3.262388   \n",
       "3                           3.262388   \n",
       "4                           3.262388   \n",
       "5                           3.262388   \n",
       "\n",
       "movie_title  anohana: The Flower We Saw That Day - The Movie (2013)  \\\n",
       "userId                                                                \n",
       "1                                                     3.262388        \n",
       "2                                                     3.262388        \n",
       "3                                                     3.262388        \n",
       "4                                                     3.262388        \n",
       "5                                                     3.262388        \n",
       "\n",
       "movie_title  eXistenZ (1999)  xXx (2002)  xXx: State of the Union (2005)  \\\n",
       "userId                                                                     \n",
       "1                   3.262388    3.262388                        3.262388   \n",
       "2                   3.262388    3.262388                        3.262388   \n",
       "3                   3.262388    3.262388                        3.262388   \n",
       "4                   3.262388    3.262388                        3.262388   \n",
       "5                   3.262388    3.262388                        3.262388   \n",
       "\n",
       "movie_title  ¡Three Amigos! (1986)  À nous la liberté (Freedom for Us) (1931)  \n",
       "userId                                                                         \n",
       "1                         4.000000                                   3.262388  \n",
       "2                         3.262388                                   3.262388  \n",
       "3                         3.262388                                   3.262388  \n",
       "4                         3.262388                                   3.262388  \n",
       "5                         3.262388                                   3.262388  \n",
       "\n",
       "[5 rows x 9719 columns]"
      ]
     },
     "execution_count": 21,
     "metadata": {},
     "output_type": "execute_result"
    }
   ],
   "source": [
    "mx.head()"
   ]
  },
  {
   "cell_type": "code",
   "execution_count": 22,
   "id": "47658aa7-48b9-4c42-88ac-00e5672d19f4",
   "metadata": {},
   "outputs": [],
   "source": [
    "pickle.dump(mx, open(\"mx.pkl\", \"wb\"))"
   ]
  },
  {
   "cell_type": "code",
   "execution_count": 23,
   "id": "9f2e2834-cab4-43d8-845c-494aadf41b94",
   "metadata": {},
   "outputs": [],
   "source": [
    "mx_array=mx.values"
   ]
  },
  {
   "cell_type": "code",
   "execution_count": 24,
   "id": "4064e522-8b1b-4973-8e6b-7c1c03e1c047",
   "metadata": {},
   "outputs": [],
   "source": [
    "#dict with movie title/index\n",
    "dic={}\n",
    "for i,j in enumerate(mx.columns):\n",
    "    dic[j]=i"
   ]
  },
  {
   "cell_type": "code",
   "execution_count": 25,
   "id": "0b8be09a-3ff7-4143-abc8-065cf7287391",
   "metadata": {},
   "outputs": [],
   "source": [
    "main_moive_list=list(dic.keys())\n",
    "pickle.dump(main_moive_list, open(\"main_moive_list.pkl\", \"wb\")) "
   ]
  },
  {
   "cell_type": "code",
   "execution_count": 26,
   "id": "334627b3-8bb1-40c6-8314-9640c170daa9",
   "metadata": {},
   "outputs": [],
   "source": [
    "pickle.dump(dic, open(\"dic.pkl\", \"wb\")) "
   ]
  },
  {
   "cell_type": "code",
   "execution_count": 27,
   "id": "14826537-e222-455b-9cb5-9b28f5608cf3",
   "metadata": {},
   "outputs": [
    {
     "name": "stderr",
     "output_type": "stream",
     "text": [
      "/home/daria/anaconda3/lib/python3.8/site-packages/sklearn/decomposition/_nmf.py:1090: ConvergenceWarning: Maximum number of iterations 1000 reached. Increase it to improve convergence.\n",
      "  warnings.warn(\"Maximum number of iterations %d reached. Increase it to\"\n"
     ]
    },
    {
     "data": {
      "text/plain": [
       "NMF(init='random', max_iter=1000, n_components=20, random_state=10)"
      ]
     },
     "execution_count": 27,
     "metadata": {},
     "output_type": "execute_result"
    }
   ],
   "source": [
    "#create a model and set the hyperparameters\n",
    "model = NMF(n_components=20, init='random', max_iter=1000,random_state=10)\n",
    "model.fit(mx_array)"
   ]
  },
  {
   "cell_type": "code",
   "execution_count": 28,
   "id": "1979521c-cc1e-4e27-a2e1-86b2a463768c",
   "metadata": {},
   "outputs": [],
   "source": [
    "pickle.dump(model, open(\"nmf.pkl\", \"wb\")) "
   ]
  },
  {
   "cell_type": "code",
   "execution_count": 29,
   "id": "8fcc141e-1e5e-4d95-a12e-1064e16f5791",
   "metadata": {},
   "outputs": [],
   "source": [
    "Q = model.components_  # movie matrix, where each row of Q represents the strength of the associations between an item(movie) and the latent features\n",
    "P = model.transform(mx_array)  # user-matrix, where each row of P represents the strength of the associations between a user and the latent features\n",
    "pred = np.dot(P, Q) # The reconstructed matrix: predictions"
   ]
  },
  {
   "cell_type": "code",
   "execution_count": 33,
   "id": "7b03e858-0837-47be-ba50-a3f9553aac2b",
   "metadata": {},
   "outputs": [],
   "source": [
    "pickle.dump(Q, open(\"nmf_Q.pkl\", \"wb\"))"
   ]
  },
  {
   "cell_type": "code",
   "execution_count": 34,
   "id": "898b7ac6-483e-4426-ad0c-97c9cc0941f5",
   "metadata": {},
   "outputs": [
    {
     "data": {
      "text/plain": [
       "(array([[3.26238831, 3.26238831, 3.26238831, ..., 3.26238831, 3.26238831,\n",
       "         3.26238831]]),\n",
       " (1, 9719))"
      ]
     },
     "execution_count": 34,
     "metadata": {},
     "output_type": "execute_result"
    }
   ],
   "source": [
    "new_user = np.full(shape=(1,mx.shape[1]), fill_value=mean); new_user, new_user.shape"
   ]
  },
  {
   "cell_type": "code",
   "execution_count": 35,
   "id": "ac34018c-e5d3-4be2-8c3d-9cf6a4761ba5",
   "metadata": {},
   "outputs": [],
   "source": [
    "movie_list=[\"'71 (2014)\",\"'Hellboy': The Seeds of Creation (2004)\"]\n",
    "rating_list=['5','4']"
   ]
  },
  {
   "cell_type": "code",
   "execution_count": 36,
   "id": "802d18ea-a35a-4d78-bbf7-99673dccb28b",
   "metadata": {},
   "outputs": [],
   "source": [
    "for i,m in enumerate(movie_list):    \n",
    "    new_user[0][dic[m]] = rating_list[i]"
   ]
  },
  {
   "cell_type": "code",
   "execution_count": 37,
   "id": "9058c3a4-3850-49dc-bb90-61dfb182e8f0",
   "metadata": {},
   "outputs": [
    {
     "data": {
      "text/plain": [
       "array([[5.        , 4.        , 3.26238831, ..., 3.26238831, 3.26238831,\n",
       "        3.26238831]])"
      ]
     },
     "execution_count": 37,
     "metadata": {},
     "output_type": "execute_result"
    }
   ],
   "source": [
    "new_user"
   ]
  },
  {
   "cell_type": "code",
   "execution_count": 46,
   "id": "98fb7afe-c4dc-47ac-8d93-8e0d6b60eb53",
   "metadata": {},
   "outputs": [],
   "source": [
    "user_P = model.transform(new_user) \n",
    "actual_recommendations = np.dot(user_P, Q)"
   ]
  },
  {
   "cell_type": "code",
   "execution_count": 47,
   "id": "b168549a-a46a-4e2a-8c8a-e8b0c3353988",
   "metadata": {},
   "outputs": [
    {
     "data": {
      "text/plain": [
       "array([3.58002249, 3.45473544, 3.3992052 , 3.39439532, 3.39092984])"
      ]
     },
     "execution_count": 47,
     "metadata": {},
     "output_type": "execute_result"
    }
   ],
   "source": [
    "np.sort(actual_recommendations)[0][::-1][:5] #top 5 probs"
   ]
  },
  {
   "cell_type": "code",
   "execution_count": 48,
   "id": "de060b77-9e11-4f4f-8c9c-d3c86f466167",
   "metadata": {},
   "outputs": [
    {
     "data": {
      "text/plain": [
       "array([7593, 3158, 3279, 7680, 6865])"
      ]
     },
     "execution_count": 48,
     "metadata": {},
     "output_type": "execute_result"
    }
   ],
   "source": [
    "ind=np.argsort(actual_recommendations)[0][::-1][:5] #top 5 indexes containing movie titles\n",
    "ind"
   ]
  },
  {
   "cell_type": "code",
   "execution_count": 41,
   "id": "35d22e0a-614f-4577-80d4-1bf3d70d42ca",
   "metadata": {},
   "outputs": [
    {
     "data": {
      "text/plain": [
       "movie_title\n",
       "'71 (2014)                                   3.263321\n",
       "'Hellboy': The Seeds of Creation (2004)      3.262368\n",
       "'Round Midnight (1986)                       3.263299\n",
       "'Salem's Lot (2004)                          3.268409\n",
       "'Til There Was You (1997)                    3.267686\n",
       "                                               ...   \n",
       "eXistenZ (1999)                              3.270705\n",
       "xXx (2002)                                   3.256380\n",
       "xXx: State of the Union (2005)               3.266654\n",
       "¡Three Amigos! (1986)                        3.256400\n",
       "À nous la liberté (Freedom for Us) (1931)    3.260792\n",
       "Length: 9719, dtype: float64"
      ]
     },
     "execution_count": 41,
     "metadata": {},
     "output_type": "execute_result"
    }
   ],
   "source": [
    "recommended_movies=pd.Series(actual_recommendations[0], index=mx.columns)\n",
    "recommended_movies"
   ]
  },
  {
   "cell_type": "code",
   "execution_count": 52,
   "id": "aed3e9c2-0041-4c18-a933-78324aa41eb6",
   "metadata": {},
   "outputs": [],
   "source": [
    "#create user df\n",
    "user_df=recommended_movies.to_frame('predictions').reset_index()"
   ]
  },
  {
   "cell_type": "code",
   "execution_count": 53,
   "id": "046c48f6-a932-4111-bc84-7f018513d91b",
   "metadata": {},
   "outputs": [
    {
     "data": {
      "text/html": [
       "<div>\n",
       "<style scoped>\n",
       "    .dataframe tbody tr th:only-of-type {\n",
       "        vertical-align: middle;\n",
       "    }\n",
       "\n",
       "    .dataframe tbody tr th {\n",
       "        vertical-align: top;\n",
       "    }\n",
       "\n",
       "    .dataframe thead th {\n",
       "        text-align: right;\n",
       "    }\n",
       "</style>\n",
       "<table border=\"1\" class=\"dataframe\">\n",
       "  <thead>\n",
       "    <tr style=\"text-align: right;\">\n",
       "      <th></th>\n",
       "      <th>movie_title</th>\n",
       "      <th>predictions</th>\n",
       "    </tr>\n",
       "  </thead>\n",
       "  <tbody>\n",
       "    <tr>\n",
       "      <th>0</th>\n",
       "      <td>'71 (2014)</td>\n",
       "      <td>3.263321</td>\n",
       "    </tr>\n",
       "    <tr>\n",
       "      <th>1</th>\n",
       "      <td>'Hellboy': The Seeds of Creation (2004)</td>\n",
       "      <td>3.262368</td>\n",
       "    </tr>\n",
       "    <tr>\n",
       "      <th>2</th>\n",
       "      <td>'Round Midnight (1986)</td>\n",
       "      <td>3.263299</td>\n",
       "    </tr>\n",
       "    <tr>\n",
       "      <th>3</th>\n",
       "      <td>'Salem's Lot (2004)</td>\n",
       "      <td>3.268409</td>\n",
       "    </tr>\n",
       "    <tr>\n",
       "      <th>4</th>\n",
       "      <td>'Til There Was You (1997)</td>\n",
       "      <td>3.267686</td>\n",
       "    </tr>\n",
       "    <tr>\n",
       "      <th>...</th>\n",
       "      <td>...</td>\n",
       "      <td>...</td>\n",
       "    </tr>\n",
       "    <tr>\n",
       "      <th>9714</th>\n",
       "      <td>eXistenZ (1999)</td>\n",
       "      <td>3.270705</td>\n",
       "    </tr>\n",
       "    <tr>\n",
       "      <th>9715</th>\n",
       "      <td>xXx (2002)</td>\n",
       "      <td>3.256380</td>\n",
       "    </tr>\n",
       "    <tr>\n",
       "      <th>9716</th>\n",
       "      <td>xXx: State of the Union (2005)</td>\n",
       "      <td>3.266654</td>\n",
       "    </tr>\n",
       "    <tr>\n",
       "      <th>9717</th>\n",
       "      <td>¡Three Amigos! (1986)</td>\n",
       "      <td>3.256400</td>\n",
       "    </tr>\n",
       "    <tr>\n",
       "      <th>9718</th>\n",
       "      <td>À nous la liberté (Freedom for Us) (1931)</td>\n",
       "      <td>3.260792</td>\n",
       "    </tr>\n",
       "  </tbody>\n",
       "</table>\n",
       "<p>9719 rows × 2 columns</p>\n",
       "</div>"
      ],
      "text/plain": [
       "                                    movie_title  predictions\n",
       "0                                    '71 (2014)     3.263321\n",
       "1       'Hellboy': The Seeds of Creation (2004)     3.262368\n",
       "2                        'Round Midnight (1986)     3.263299\n",
       "3                           'Salem's Lot (2004)     3.268409\n",
       "4                     'Til There Was You (1997)     3.267686\n",
       "...                                         ...          ...\n",
       "9714                            eXistenZ (1999)     3.270705\n",
       "9715                                 xXx (2002)     3.256380\n",
       "9716             xXx: State of the Union (2005)     3.266654\n",
       "9717                      ¡Three Amigos! (1986)     3.256400\n",
       "9718  À nous la liberté (Freedom for Us) (1931)     3.260792\n",
       "\n",
       "[9719 rows x 2 columns]"
      ]
     },
     "execution_count": 53,
     "metadata": {},
     "output_type": "execute_result"
    }
   ],
   "source": [
    "user_df"
   ]
  },
  {
   "cell_type": "code",
   "execution_count": 44,
   "id": "1e36d118-af8b-413d-ad99-736fd2f35601",
   "metadata": {},
   "outputs": [],
   "source": [
    "import re\n",
    "def year(y):\n",
    "    \"\"\"extracts year from the movies title\"\"\"\n",
    "    year=re.findall(\"\\(([0-9]+)\\)\",y)\n",
    "    try:\n",
    "        year=year[0]\n",
    "    except:\n",
    "        year=0\n",
    "    return int(year)"
   ]
  },
  {
   "cell_type": "code",
   "execution_count": 54,
   "id": "5ccbf758-8954-4dc9-b4e7-6701bebaeb44",
   "metadata": {},
   "outputs": [
    {
     "data": {
      "text/html": [
       "<div>\n",
       "<style scoped>\n",
       "    .dataframe tbody tr th:only-of-type {\n",
       "        vertical-align: middle;\n",
       "    }\n",
       "\n",
       "    .dataframe tbody tr th {\n",
       "        vertical-align: top;\n",
       "    }\n",
       "\n",
       "    .dataframe thead th {\n",
       "        text-align: right;\n",
       "    }\n",
       "</style>\n",
       "<table border=\"1\" class=\"dataframe\">\n",
       "  <thead>\n",
       "    <tr style=\"text-align: right;\">\n",
       "      <th></th>\n",
       "      <th>predictions</th>\n",
       "      <th>year</th>\n",
       "    </tr>\n",
       "    <tr>\n",
       "      <th>movie_title</th>\n",
       "      <th></th>\n",
       "      <th></th>\n",
       "    </tr>\n",
       "  </thead>\n",
       "  <tbody>\n",
       "    <tr>\n",
       "      <th>'71 (2014)</th>\n",
       "      <td>3.263321</td>\n",
       "      <td>2014</td>\n",
       "    </tr>\n",
       "    <tr>\n",
       "      <th>'Hellboy': The Seeds of Creation (2004)</th>\n",
       "      <td>3.262368</td>\n",
       "      <td>2004</td>\n",
       "    </tr>\n",
       "    <tr>\n",
       "      <th>'Round Midnight (1986)</th>\n",
       "      <td>3.263299</td>\n",
       "      <td>1986</td>\n",
       "    </tr>\n",
       "    <tr>\n",
       "      <th>'Salem's Lot (2004)</th>\n",
       "      <td>3.268409</td>\n",
       "      <td>2004</td>\n",
       "    </tr>\n",
       "    <tr>\n",
       "      <th>'Til There Was You (1997)</th>\n",
       "      <td>3.267686</td>\n",
       "      <td>1997</td>\n",
       "    </tr>\n",
       "    <tr>\n",
       "      <th>...</th>\n",
       "      <td>...</td>\n",
       "      <td>...</td>\n",
       "    </tr>\n",
       "    <tr>\n",
       "      <th>eXistenZ (1999)</th>\n",
       "      <td>3.270705</td>\n",
       "      <td>1999</td>\n",
       "    </tr>\n",
       "    <tr>\n",
       "      <th>xXx (2002)</th>\n",
       "      <td>3.256380</td>\n",
       "      <td>2002</td>\n",
       "    </tr>\n",
       "    <tr>\n",
       "      <th>xXx: State of the Union (2005)</th>\n",
       "      <td>3.266654</td>\n",
       "      <td>2005</td>\n",
       "    </tr>\n",
       "    <tr>\n",
       "      <th>¡Three Amigos! (1986)</th>\n",
       "      <td>3.256400</td>\n",
       "      <td>1986</td>\n",
       "    </tr>\n",
       "    <tr>\n",
       "      <th>À nous la liberté (Freedom for Us) (1931)</th>\n",
       "      <td>3.260792</td>\n",
       "      <td>1931</td>\n",
       "    </tr>\n",
       "  </tbody>\n",
       "</table>\n",
       "<p>9719 rows × 2 columns</p>\n",
       "</div>"
      ],
      "text/plain": [
       "                                           predictions  year\n",
       "movie_title                                                 \n",
       "'71 (2014)                                    3.263321  2014\n",
       "'Hellboy': The Seeds of Creation (2004)       3.262368  2004\n",
       "'Round Midnight (1986)                        3.263299  1986\n",
       "'Salem's Lot (2004)                           3.268409  2004\n",
       "'Til There Was You (1997)                     3.267686  1997\n",
       "...                                                ...   ...\n",
       "eXistenZ (1999)                               3.270705  1999\n",
       "xXx (2002)                                    3.256380  2002\n",
       "xXx: State of the Union (2005)                3.266654  2005\n",
       "¡Three Amigos! (1986)                         3.256400  1986\n",
       "À nous la liberté (Freedom for Us) (1931)     3.260792  1931\n",
       "\n",
       "[9719 rows x 2 columns]"
      ]
     },
     "execution_count": 54,
     "metadata": {},
     "output_type": "execute_result"
    }
   ],
   "source": [
    "user_df['year']=user_df['movie_title'].apply(year)\n",
    "user_df=user_df.set_index(\"movie_title\")\n",
    "user_df"
   ]
  },
  {
   "cell_type": "code",
   "execution_count": 55,
   "id": "ec489836-4836-4a29-809c-9e9b2ac5dcee",
   "metadata": {},
   "outputs": [
    {
     "data": {
      "text/html": [
       "<div>\n",
       "<style scoped>\n",
       "    .dataframe tbody tr th:only-of-type {\n",
       "        vertical-align: middle;\n",
       "    }\n",
       "\n",
       "    .dataframe tbody tr th {\n",
       "        vertical-align: top;\n",
       "    }\n",
       "\n",
       "    .dataframe thead th {\n",
       "        text-align: right;\n",
       "    }\n",
       "</style>\n",
       "<table border=\"1\" class=\"dataframe\">\n",
       "  <thead>\n",
       "    <tr style=\"text-align: right;\">\n",
       "      <th></th>\n",
       "      <th>predictions</th>\n",
       "      <th>year</th>\n",
       "    </tr>\n",
       "    <tr>\n",
       "      <th>movie_title</th>\n",
       "      <th></th>\n",
       "      <th></th>\n",
       "    </tr>\n",
       "  </thead>\n",
       "  <tbody>\n",
       "    <tr>\n",
       "      <th>'Round Midnight (1986)</th>\n",
       "      <td>3.263299</td>\n",
       "      <td>1986</td>\n",
       "    </tr>\n",
       "    <tr>\n",
       "      <th>'Salem's Lot (2004)</th>\n",
       "      <td>3.268409</td>\n",
       "      <td>2004</td>\n",
       "    </tr>\n",
       "    <tr>\n",
       "      <th>'Til There Was You (1997)</th>\n",
       "      <td>3.267686</td>\n",
       "      <td>1997</td>\n",
       "    </tr>\n",
       "    <tr>\n",
       "      <th>'Tis the Season for Love (2015)</th>\n",
       "      <td>3.258395</td>\n",
       "      <td>2015</td>\n",
       "    </tr>\n",
       "    <tr>\n",
       "      <th>'burbs, The (1989)</th>\n",
       "      <td>3.268256</td>\n",
       "      <td>1989</td>\n",
       "    </tr>\n",
       "    <tr>\n",
       "      <th>...</th>\n",
       "      <td>...</td>\n",
       "      <td>...</td>\n",
       "    </tr>\n",
       "    <tr>\n",
       "      <th>eXistenZ (1999)</th>\n",
       "      <td>3.270705</td>\n",
       "      <td>1999</td>\n",
       "    </tr>\n",
       "    <tr>\n",
       "      <th>xXx (2002)</th>\n",
       "      <td>3.256380</td>\n",
       "      <td>2002</td>\n",
       "    </tr>\n",
       "    <tr>\n",
       "      <th>xXx: State of the Union (2005)</th>\n",
       "      <td>3.266654</td>\n",
       "      <td>2005</td>\n",
       "    </tr>\n",
       "    <tr>\n",
       "      <th>¡Three Amigos! (1986)</th>\n",
       "      <td>3.256400</td>\n",
       "      <td>1986</td>\n",
       "    </tr>\n",
       "    <tr>\n",
       "      <th>À nous la liberté (Freedom for Us) (1931)</th>\n",
       "      <td>3.260792</td>\n",
       "      <td>1931</td>\n",
       "    </tr>\n",
       "  </tbody>\n",
       "</table>\n",
       "<p>9717 rows × 2 columns</p>\n",
       "</div>"
      ],
      "text/plain": [
       "                                           predictions  year\n",
       "movie_title                                                 \n",
       "'Round Midnight (1986)                        3.263299  1986\n",
       "'Salem's Lot (2004)                           3.268409  2004\n",
       "'Til There Was You (1997)                     3.267686  1997\n",
       "'Tis the Season for Love (2015)               3.258395  2015\n",
       "'burbs, The (1989)                            3.268256  1989\n",
       "...                                                ...   ...\n",
       "eXistenZ (1999)                               3.270705  1999\n",
       "xXx (2002)                                    3.256380  2002\n",
       "xXx: State of the Union (2005)                3.266654  2005\n",
       "¡Three Amigos! (1986)                         3.256400  1986\n",
       "À nous la liberté (Freedom for Us) (1931)     3.260792  1931\n",
       "\n",
       "[9717 rows x 2 columns]"
      ]
     },
     "execution_count": 55,
     "metadata": {},
     "output_type": "execute_result"
    }
   ],
   "source": [
    "#removing seen movies\n",
    "user_df=user_df.loc[~user_df.index.isin(movie_list)] \n",
    "user_df"
   ]
  },
  {
   "cell_type": "code",
   "execution_count": 282,
   "id": "9278d6df-084a-4588-91ea-4c1bd8e0fdcc",
   "metadata": {},
   "outputs": [],
   "source": [
    "#10 best movies in the last 10 years\n",
    "choice=user_df.reset_index().sort_values(by=['predictions']).groupby('year').max()[-10:]['movie_title'].values"
   ]
  },
  {
   "cell_type": "code",
   "execution_count": 283,
   "id": "2f5d4dc6-7ac9-4dcb-8625-42c672b0fe17",
   "metadata": {},
   "outputs": [
    {
     "data": {
      "text/plain": [
       "['Zombeavers (2014)',\n",
       " '[REC]² (2009)',\n",
       " \"Won't You Be My Neighbor? (2018)\",\n",
       " 'You Will Meet a Tall Dark Stranger (2010)',\n",
       " 'Zoom (2015)']"
      ]
     },
     "execution_count": 283,
     "metadata": {},
     "output_type": "execute_result"
    }
   ],
   "source": [
    "#randomly pick 5 of out those 10\n",
    "new=list(np.random.choice(choice,5, replace=False))\n",
    "new"
   ]
  },
  {
   "cell_type": "code",
   "execution_count": 145,
   "id": "829c6133-4c10-486c-81e5-69e19cbe2c77",
   "metadata": {},
   "outputs": [
    {
     "data": {
      "text/plain": [
       "['Shawshank Redemption, The (1994)',\n",
       " 'Forrest Gump (1994)',\n",
       " 'Fugitive, The (1993)',\n",
       " 'Silence of the Lambs, The (1991)',\n",
       " 'Pulp Fiction (1994)']"
      ]
     },
     "execution_count": 145,
     "metadata": {},
     "output_type": "execute_result"
    }
   ],
   "source": [
    "#all movies sorted by predictions\n",
    "all=list(user_df.sort_values(by='predictions', ascending=False)[:5].index)\n",
    "all"
   ]
  },
  {
   "cell_type": "code",
   "execution_count": 284,
   "id": "cf160bac-b9e6-4352-8bb8-8f16c27f9544",
   "metadata": {},
   "outputs": [],
   "source": [
    "def get_link(x):\n",
    "    \"\"\"returns poster link\"\"\"\n",
    "    x=str(x)\n",
    "    if len(x)==7:\n",
    "        url=f\"https://www.omdbapi.com/?i=tt{x}&apikey=e815a9b1\"\n",
    "    if len(x)==6:\n",
    "        url=f\"https://www.omdbapi.com/?i=tt0{x}&apikey=e815a9b1\"\n",
    "    else:\n",
    "        url=f\"https://www.omdbapi.com/?i=tt00{x}&apikey=e815a9b1\"\n",
    "#    print(url)\n",
    "    page = requests.get(url).json()\n",
    "#    print(page)\n",
    "    link=page.get(\"Poster\")\n",
    "\n",
    "        \n",
    "    return link\n"
   ]
  },
  {
   "cell_type": "code",
   "execution_count": 286,
   "id": "7691d437-4000-4929-81b4-d159e7a3c2a5",
   "metadata": {},
   "outputs": [],
   "source": [
    "def get_pics(movies):\n",
    "            \"returns list of posters of recommended movies \"\n",
    "            pics=[]\n",
    "            for i in movies:\n",
    "                ID=dic_imdb[i]\n",
    "                print(ID)\n",
    "                link=get_link(ID)\n",
    "                print(link)\n",
    "                pics.append(link)\n",
    "            return pics"
   ]
  },
  {
   "cell_type": "code",
   "execution_count": null,
   "id": "962bc44e-d8b8-4bd9-8526-547aed260618",
   "metadata": {},
   "outputs": [],
   "source": []
  }
 ],
 "metadata": {
  "kernelspec": {
   "display_name": "Python 3",
   "language": "python",
   "name": "python3"
  },
  "language_info": {
   "codemirror_mode": {
    "name": "ipython",
    "version": 3
   },
   "file_extension": ".py",
   "mimetype": "text/x-python",
   "name": "python",
   "nbconvert_exporter": "python",
   "pygments_lexer": "ipython3",
   "version": "3.8.8"
  }
 },
 "nbformat": 4,
 "nbformat_minor": 5
}
